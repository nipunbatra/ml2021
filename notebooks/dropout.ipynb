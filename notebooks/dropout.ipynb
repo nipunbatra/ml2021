{
 "cells": [
  {
   "cell_type": "code",
   "execution_count": 1,
   "metadata": {},
   "outputs": [],
   "source": [
    "import numpy as np"
   ]
  },
  {
   "cell_type": "code",
   "execution_count": 52,
   "metadata": {},
   "outputs": [],
   "source": [
    "X = np.random.randn(10, 3)"
   ]
  },
  {
   "cell_type": "code",
   "execution_count": 53,
   "metadata": {},
   "outputs": [
    {
     "data": {
      "text/plain": [
       "(10, 3)"
      ]
     },
     "execution_count": 53,
     "metadata": {},
     "output_type": "execute_result"
    }
   ],
   "source": [
    "X.shape"
   ]
  },
  {
   "cell_type": "code",
   "execution_count": 54,
   "metadata": {},
   "outputs": [],
   "source": [
    "y = X[:, 0]*10 + X[:, 1]*-1 + X[:, 2]*2 "
   ]
  },
  {
   "cell_type": "code",
   "execution_count": 55,
   "metadata": {},
   "outputs": [
    {
     "data": {
      "text/plain": [
       "(10,)"
      ]
     },
     "execution_count": 55,
     "metadata": {},
     "output_type": "execute_result"
    }
   ],
   "source": [
    "y.shape"
   ]
  },
  {
   "cell_type": "code",
   "execution_count": 56,
   "metadata": {},
   "outputs": [],
   "source": [
    "A = {}\n",
    "W = {}\n",
    "Z = {}\n",
    "b = {}"
   ]
  },
  {
   "cell_type": "code",
   "execution_count": 57,
   "metadata": {},
   "outputs": [],
   "source": [
    "layer_sizes = [4, 1]"
   ]
  },
  {
   "cell_type": "code",
   "execution_count": 58,
   "metadata": {},
   "outputs": [],
   "source": [
    "A[0] = X"
   ]
  },
  {
   "cell_type": "code",
   "execution_count": 59,
   "metadata": {},
   "outputs": [],
   "source": [
    "W[1] = np.random.randn(A[0].shape[1], layer_sizes[0])"
   ]
  },
  {
   "cell_type": "code",
   "execution_count": 60,
   "metadata": {},
   "outputs": [
    {
     "data": {
      "text/plain": [
       "(3, 4)"
      ]
     },
     "execution_count": 60,
     "metadata": {},
     "output_type": "execute_result"
    }
   ],
   "source": [
    "W[1].shape"
   ]
  },
  {
   "cell_type": "code",
   "execution_count": 61,
   "metadata": {},
   "outputs": [],
   "source": [
    "b[1] = np.random.randn(1, layer_sizes[0])"
   ]
  },
  {
   "cell_type": "code",
   "execution_count": 62,
   "metadata": {},
   "outputs": [
    {
     "data": {
      "text/plain": [
       "(1, 4)"
      ]
     },
     "execution_count": 62,
     "metadata": {},
     "output_type": "execute_result"
    }
   ],
   "source": [
    "b[1].shape"
   ]
  },
  {
   "cell_type": "code",
   "execution_count": 63,
   "metadata": {},
   "outputs": [],
   "source": [
    "Z[1] = (A[0]@W[1]) + b[1]"
   ]
  },
  {
   "cell_type": "code",
   "execution_count": 64,
   "metadata": {},
   "outputs": [
    {
     "data": {
      "text/plain": [
       "array([[-1.53937636, -0.18338799, -2.07814072, -0.91303806],\n",
       "       [-2.55769496,  0.78413918, -3.3242565 , -1.49515048],\n",
       "       [ 0.0839457 , -0.49306031,  0.06260234, -1.52705092],\n",
       "       [ 1.62216267,  1.13639825,  1.0633188 ,  1.8780678 ],\n",
       "       [ 2.61466976,  2.44697567,  1.47359778,  5.10076362],\n",
       "       [ 2.76152807,  2.65521177,  1.70157844,  4.72578633],\n",
       "       [-0.94522279,  0.31982726, -1.9597537 ,  1.83179731],\n",
       "       [ 2.73028604,  0.27138955,  2.96791889, -0.36953722],\n",
       "       [-1.48416095, -6.15276081, -1.14969207, -1.55031934],\n",
       "       [ 5.26271725,  2.87961333,  4.35327222,  6.60377418]])"
      ]
     },
     "execution_count": 64,
     "metadata": {},
     "output_type": "execute_result"
    }
   ],
   "source": [
    "Z[1]"
   ]
  },
  {
   "cell_type": "code",
   "execution_count": 66,
   "metadata": {},
   "outputs": [
    {
     "data": {
      "text/plain": [
       "array([[0.        , 0.        , 0.        , 0.        ],\n",
       "       [0.        , 0.78413918, 0.        , 0.        ],\n",
       "       [0.0839457 , 0.        , 0.06260234, 0.        ],\n",
       "       [1.62216267, 1.13639825, 1.0633188 , 1.8780678 ],\n",
       "       [2.61466976, 2.44697567, 1.47359778, 5.10076362],\n",
       "       [2.76152807, 2.65521177, 1.70157844, 4.72578633],\n",
       "       [0.        , 0.31982726, 0.        , 1.83179731],\n",
       "       [2.73028604, 0.27138955, 2.96791889, 0.        ],\n",
       "       [0.        , 0.        , 0.        , 0.        ],\n",
       "       [5.26271725, 2.87961333, 4.35327222, 6.60377418]])"
      ]
     },
     "execution_count": 66,
     "metadata": {},
     "output_type": "execute_result"
    }
   ],
   "source": [
    "A[1] = Z[1].copy()\n",
    "A[1][A[1]<0] = 0\n",
    "A[1]"
   ]
  },
  {
   "cell_type": "code",
   "execution_count": 82,
   "metadata": {},
   "outputs": [],
   "source": [
    "keep_prob = 0.6"
   ]
  },
  {
   "cell_type": "code",
   "execution_count": 83,
   "metadata": {},
   "outputs": [
    {
     "data": {
      "text/plain": [
       "569"
      ]
     },
     "execution_count": 83,
     "metadata": {},
     "output_type": "execute_result"
    }
   ],
   "source": [
    "(np.random.random(1000) < keep_prob).sum()"
   ]
  },
  {
   "cell_type": "markdown",
   "metadata": {},
   "source": [
    "### Dropout on hidden layer (containing 4 units)"
   ]
  },
  {
   "cell_type": "code",
   "execution_count": 84,
   "metadata": {},
   "outputs": [],
   "source": [
    "mask = np.random.random(A[1].shape[1]) < keep_prob"
   ]
  },
  {
   "cell_type": "code",
   "execution_count": 85,
   "metadata": {},
   "outputs": [
    {
     "data": {
      "text/plain": [
       "array([False,  True, False,  True])"
      ]
     },
     "execution_count": 85,
     "metadata": {},
     "output_type": "execute_result"
    }
   ],
   "source": [
    "mask"
   ]
  },
  {
   "cell_type": "code",
   "execution_count": 90,
   "metadata": {},
   "outputs": [],
   "source": [
    "A[1] = A[1].T[mask].T"
   ]
  },
  {
   "cell_type": "code",
   "execution_count": 91,
   "metadata": {},
   "outputs": [
    {
     "data": {
      "text/plain": [
       "array([[0.        , 0.        ],\n",
       "       [0.78413918, 0.        ],\n",
       "       [0.        , 0.        ],\n",
       "       [1.13639825, 1.8780678 ],\n",
       "       [2.44697567, 5.10076362],\n",
       "       [2.65521177, 4.72578633],\n",
       "       [0.31982726, 1.83179731],\n",
       "       [0.27138955, 0.        ],\n",
       "       [0.        , 0.        ],\n",
       "       [2.87961333, 6.60377418]])"
      ]
     },
     "execution_count": 91,
     "metadata": {},
     "output_type": "execute_result"
    }
   ],
   "source": [
    "A[1]"
   ]
  },
  {
   "cell_type": "code",
   "execution_count": 92,
   "metadata": {},
   "outputs": [
    {
     "data": {
      "text/plain": [
       "array([[ 0.        ,  0.        ],\n",
       "       [ 1.30689864,  0.        ],\n",
       "       [ 0.        ,  0.        ],\n",
       "       [ 1.89399709,  3.13011299],\n",
       "       [ 4.07829279,  8.5012727 ],\n",
       "       [ 4.42535295,  7.87631054],\n",
       "       [ 0.53304544,  3.05299552],\n",
       "       [ 0.45231592,  0.        ],\n",
       "       [ 0.        ,  0.        ],\n",
       "       [ 4.79935556, 11.0062903 ]])"
      ]
     },
     "execution_count": 92,
     "metadata": {},
     "output_type": "execute_result"
    }
   ],
   "source": [
    "A[1] = A[1]/keep_prob\n",
    "A[1]"
   ]
  },
  {
   "cell_type": "code",
   "execution_count": 93,
   "metadata": {},
   "outputs": [],
   "source": [
    "W[2] = np.random.randn(A[1].shape[1], layer_sizes[1])"
   ]
  },
  {
   "cell_type": "code",
   "execution_count": 94,
   "metadata": {},
   "outputs": [
    {
     "data": {
      "text/plain": [
       "array([[ 1.13585636],\n",
       "       [-0.13256137]])"
      ]
     },
     "execution_count": 94,
     "metadata": {},
     "output_type": "execute_result"
    }
   ],
   "source": [
    "W[2]"
   ]
  },
  {
   "cell_type": "code",
   "execution_count": 95,
   "metadata": {},
   "outputs": [],
   "source": [
    "b[2] = np.random.randn(1, layer_sizes[1])"
   ]
  },
  {
   "cell_type": "code",
   "execution_count": 96,
   "metadata": {},
   "outputs": [],
   "source": [
    "Z[2] = A[1]@W[2] + b[2]"
   ]
  },
  {
   "cell_type": "code",
   "execution_count": 97,
   "metadata": {},
   "outputs": [
    {
     "data": {
      "text/plain": [
       "array([[-1.74176369],\n",
       "       [-0.25731456],\n",
       "       [-1.74176369],\n",
       "       [-0.0053871 ],\n",
       "       [ 1.76365079],\n",
       "       [ 2.24070712],\n",
       "       [-1.5410099 ],\n",
       "       [-1.22799777],\n",
       "       [-1.74176369],\n",
       "       [ 2.25060596]])"
      ]
     },
     "execution_count": 97,
     "metadata": {},
     "output_type": "execute_result"
    }
   ],
   "source": [
    "Z[2]"
   ]
  },
  {
   "cell_type": "code",
   "execution_count": 102,
   "metadata": {},
   "outputs": [],
   "source": [
    "A[2] = Z[2].copy()"
   ]
  },
  {
   "cell_type": "code",
   "execution_count": 103,
   "metadata": {},
   "outputs": [
    {
     "data": {
      "text/plain": [
       "array([[-1.74176369],\n",
       "       [-0.25731456],\n",
       "       [-1.74176369],\n",
       "       [-0.0053871 ],\n",
       "       [ 1.76365079],\n",
       "       [ 2.24070712],\n",
       "       [-1.5410099 ],\n",
       "       [-1.22799777],\n",
       "       [-1.74176369],\n",
       "       [ 2.25060596]])"
      ]
     },
     "execution_count": 103,
     "metadata": {},
     "output_type": "execute_result"
    }
   ],
   "source": [
    "A[2]"
   ]
  },
  {
   "cell_type": "code",
   "execution_count": 104,
   "metadata": {},
   "outputs": [
    {
     "data": {
      "text/plain": [
       "array([[-0.61652165],\n",
       "       [-4.95478132],\n",
       "       [14.93147304],\n",
       "       [10.04781802],\n",
       "       [ 1.72600586],\n",
       "       [ 4.91072442],\n",
       "       [-9.96813314],\n",
       "       [29.77843425],\n",
       "       [-0.04983616],\n",
       "       [14.62256045]])"
      ]
     },
     "execution_count": 104,
     "metadata": {},
     "output_type": "execute_result"
    }
   ],
   "source": [
    "y.reshape(-1, 1)"
   ]
  },
  {
   "cell_type": "code",
   "execution_count": null,
   "metadata": {},
   "outputs": [],
   "source": []
  }
 ],
 "metadata": {
  "kernelspec": {
   "display_name": "Python 3",
   "language": "python",
   "name": "python3"
  },
  "language_info": {
   "codemirror_mode": {
    "name": "ipython",
    "version": 3
   },
   "file_extension": ".py",
   "mimetype": "text/x-python",
   "name": "python",
   "nbconvert_exporter": "python",
   "pygments_lexer": "ipython3",
   "version": "3.7.1"
  }
 },
 "nbformat": 4,
 "nbformat_minor": 2
}
