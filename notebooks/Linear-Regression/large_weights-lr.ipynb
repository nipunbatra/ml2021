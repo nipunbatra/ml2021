{
 "cells": [
  {
   "cell_type": "markdown",
   "metadata": {},
   "source": [
    "### Large weights in Linear Regression\n",
    "\n",
    "Inspired by UW course\n",
    "\n",
    "$y = \\sin(4x)$:"
   ]
  },
  {
   "cell_type": "code",
   "execution_count": 1,
   "metadata": {},
   "outputs": [],
   "source": [
    "import numpy as np\n",
    "from matplotlib import pyplot as plt\n",
    "import pandas as pd\n",
    "%matplotlib inline"
   ]
  },
  {
   "cell_type": "markdown",
   "metadata": {},
   "source": [
    "Create random values for x in interval [0,1)"
   ]
  },
  {
   "cell_type": "code",
   "execution_count": 2,
   "metadata": {},
   "outputs": [
    {
     "data": {
      "text/plain": [
       "array([-1.1247867 , -0.64075899, -0.43056543, -0.37629431, -0.32698029,\n",
       "       -0.09038786, -0.08246876, -0.06668439, -0.04547578,  0.02016012,\n",
       "        0.05360712,  0.06346218,  0.1379302 ,  0.14700899,  0.17629977,\n",
       "        0.18089995,  0.1955556 ,  0.28796884,  0.33529515,  0.38085007,\n",
       "        0.4185864 ,  0.43120872,  0.64071838,  0.64736459,  0.65825577,\n",
       "        0.67530613,  0.77719958,  0.82280171,  0.98728434,  1.        ])"
      ]
     },
     "execution_count": 2,
     "metadata": {},
     "output_type": "execute_result"
    }
   ],
   "source": [
    "np.random.seed(0)\n",
    "n = 30\n",
    "x = np.random.randn(n)\n",
    "x = x/x.max()\n",
    "x.sort()\n",
    "x"
   ]
  },
  {
   "cell_type": "markdown",
   "metadata": {},
   "source": [
    "Compute y"
   ]
  },
  {
   "cell_type": "code",
   "execution_count": 3,
   "metadata": {},
   "outputs": [],
   "source": [
    "y =np.sin(4*x)"
   ]
  },
  {
   "cell_type": "markdown",
   "metadata": {},
   "source": [
    "Add random Gaussian noise to y"
   ]
  },
  {
   "cell_type": "code",
   "execution_count": 4,
   "metadata": {},
   "outputs": [],
   "source": [
    "np.random.seed(0)\n",
    "e = np.random.randn(n)/5\n",
    "y = y + e"
   ]
  },
  {
   "cell_type": "markdown",
   "metadata": {},
   "source": [
    "### Put data into an SFrame to manipulate later"
   ]
  },
  {
   "cell_type": "code",
   "execution_count": 5,
   "metadata": {},
   "outputs": [
    {
     "data": {
      "text/html": [
       "<div>\n",
       "<style scoped>\n",
       "    .dataframe tbody tr th:only-of-type {\n",
       "        vertical-align: middle;\n",
       "    }\n",
       "\n",
       "    .dataframe tbody tr th {\n",
       "        vertical-align: top;\n",
       "    }\n",
       "\n",
       "    .dataframe thead th {\n",
       "        text-align: right;\n",
       "    }\n",
       "</style>\n",
       "<table border=\"1\" class=\"dataframe\">\n",
       "  <thead>\n",
       "    <tr style=\"text-align: right;\">\n",
       "      <th></th>\n",
       "      <th>X1</th>\n",
       "      <th>Y</th>\n",
       "    </tr>\n",
       "  </thead>\n",
       "  <tbody>\n",
       "    <tr>\n",
       "      <th>0</th>\n",
       "      <td>-1.124787</td>\n",
       "      <td>1.330160</td>\n",
       "    </tr>\n",
       "    <tr>\n",
       "      <th>1</th>\n",
       "      <td>-0.640759</td>\n",
       "      <td>-0.466785</td>\n",
       "    </tr>\n",
       "    <tr>\n",
       "      <th>2</th>\n",
       "      <td>-0.430565</td>\n",
       "      <td>-0.792803</td>\n",
       "    </tr>\n",
       "    <tr>\n",
       "      <th>3</th>\n",
       "      <td>-0.376294</td>\n",
       "      <td>-0.549669</td>\n",
       "    </tr>\n",
       "    <tr>\n",
       "      <th>4</th>\n",
       "      <td>-0.326980</td>\n",
       "      <td>-0.592135</td>\n",
       "    </tr>\n",
       "    <tr>\n",
       "      <th>5</th>\n",
       "      <td>-0.090388</td>\n",
       "      <td>-0.549181</td>\n",
       "    </tr>\n",
       "    <tr>\n",
       "      <th>6</th>\n",
       "      <td>-0.082469</td>\n",
       "      <td>-0.133907</td>\n",
       "    </tr>\n",
       "    <tr>\n",
       "      <th>7</th>\n",
       "      <td>-0.066684</td>\n",
       "      <td>-0.293857</td>\n",
       "    </tr>\n",
       "    <tr>\n",
       "      <th>8</th>\n",
       "      <td>-0.045476</td>\n",
       "      <td>-0.201545</td>\n",
       "    </tr>\n",
       "    <tr>\n",
       "      <th>9</th>\n",
       "      <td>0.020160</td>\n",
       "      <td>0.162673</td>\n",
       "    </tr>\n",
       "    <tr>\n",
       "      <th>10</th>\n",
       "      <td>0.053607</td>\n",
       "      <td>0.241598</td>\n",
       "    </tr>\n",
       "    <tr>\n",
       "      <th>11</th>\n",
       "      <td>0.063462</td>\n",
       "      <td>0.541986</td>\n",
       "    </tr>\n",
       "    <tr>\n",
       "      <th>12</th>\n",
       "      <td>0.137930</td>\n",
       "      <td>0.676361</td>\n",
       "    </tr>\n",
       "    <tr>\n",
       "      <th>13</th>\n",
       "      <td>0.147009</td>\n",
       "      <td>0.579063</td>\n",
       "    </tr>\n",
       "    <tr>\n",
       "      <th>14</th>\n",
       "      <td>0.176300</td>\n",
       "      <td>0.736958</td>\n",
       "    </tr>\n",
       "    <tr>\n",
       "      <th>15</th>\n",
       "      <td>0.180900</td>\n",
       "      <td>0.728822</td>\n",
       "    </tr>\n",
       "    <tr>\n",
       "      <th>16</th>\n",
       "      <td>0.195556</td>\n",
       "      <td>1.003673</td>\n",
       "    </tr>\n",
       "    <tr>\n",
       "      <th>17</th>\n",
       "      <td>0.287969</td>\n",
       "      <td>0.872497</td>\n",
       "    </tr>\n",
       "    <tr>\n",
       "      <th>18</th>\n",
       "      <td>0.335295</td>\n",
       "      <td>1.036367</td>\n",
       "    </tr>\n",
       "    <tr>\n",
       "      <th>19</th>\n",
       "      <td>0.380850</td>\n",
       "      <td>0.828058</td>\n",
       "    </tr>\n",
       "    <tr>\n",
       "      <th>20</th>\n",
       "      <td>0.418586</td>\n",
       "      <td>0.484046</td>\n",
       "    </tr>\n",
       "    <tr>\n",
       "      <th>21</th>\n",
       "      <td>0.431209</td>\n",
       "      <td>1.118883</td>\n",
       "    </tr>\n",
       "    <tr>\n",
       "      <th>22</th>\n",
       "      <td>0.640718</td>\n",
       "      <td>0.719839</td>\n",
       "    </tr>\n",
       "    <tr>\n",
       "      <th>23</th>\n",
       "      <td>0.647365</td>\n",
       "      <td>0.376073</td>\n",
       "    </tr>\n",
       "    <tr>\n",
       "      <th>24</th>\n",
       "      <td>0.658256</td>\n",
       "      <td>0.940879</td>\n",
       "    </tr>\n",
       "    <tr>\n",
       "      <th>25</th>\n",
       "      <td>0.675306</td>\n",
       "      <td>0.135399</td>\n",
       "    </tr>\n",
       "    <tr>\n",
       "      <th>26</th>\n",
       "      <td>0.777200</td>\n",
       "      <td>0.041940</td>\n",
       "    </tr>\n",
       "    <tr>\n",
       "      <th>27</th>\n",
       "      <td>0.822802</td>\n",
       "      <td>-0.186493</td>\n",
       "    </tr>\n",
       "    <tr>\n",
       "      <th>28</th>\n",
       "      <td>0.987284</td>\n",
       "      <td>-0.416036</td>\n",
       "    </tr>\n",
       "    <tr>\n",
       "      <th>29</th>\n",
       "      <td>1.000000</td>\n",
       "      <td>-0.462931</td>\n",
       "    </tr>\n",
       "  </tbody>\n",
       "</table>\n",
       "</div>"
      ],
      "text/plain": [
       "          X1         Y\n",
       "0  -1.124787  1.330160\n",
       "1  -0.640759 -0.466785\n",
       "2  -0.430565 -0.792803\n",
       "3  -0.376294 -0.549669\n",
       "4  -0.326980 -0.592135\n",
       "5  -0.090388 -0.549181\n",
       "6  -0.082469 -0.133907\n",
       "7  -0.066684 -0.293857\n",
       "8  -0.045476 -0.201545\n",
       "9   0.020160  0.162673\n",
       "10  0.053607  0.241598\n",
       "11  0.063462  0.541986\n",
       "12  0.137930  0.676361\n",
       "13  0.147009  0.579063\n",
       "14  0.176300  0.736958\n",
       "15  0.180900  0.728822\n",
       "16  0.195556  1.003673\n",
       "17  0.287969  0.872497\n",
       "18  0.335295  1.036367\n",
       "19  0.380850  0.828058\n",
       "20  0.418586  0.484046\n",
       "21  0.431209  1.118883\n",
       "22  0.640718  0.719839\n",
       "23  0.647365  0.376073\n",
       "24  0.658256  0.940879\n",
       "25  0.675306  0.135399\n",
       "26  0.777200  0.041940\n",
       "27  0.822802 -0.186493\n",
       "28  0.987284 -0.416036\n",
       "29  1.000000 -0.462931"
      ]
     },
     "execution_count": 5,
     "metadata": {},
     "output_type": "execute_result"
    }
   ],
   "source": [
    "data = pd.DataFrame({'X1':x,'Y':y})\n",
    "data"
   ]
  },
  {
   "cell_type": "markdown",
   "metadata": {},
   "source": [
    "### Create a function to plot the data, since we'll do it many times"
   ]
  },
  {
   "cell_type": "code",
   "execution_count": 6,
   "metadata": {},
   "outputs": [
    {
     "data": {
      "image/png": "[encoded data removed]",
      "text/plain": [
       "<Figure size 432x288 with 1 Axes>"
      ]
     },
     "metadata": {},
     "output_type": "display_data"
    }
   ],
   "source": [
    "def plot_data(data):    \n",
    "    plt.plot(data['X1'],data['Y'],'k.')\n",
    "    plt.xlabel('x')\n",
    "    plt.ylabel('y')\n",
    "\n",
    "plot_data(data)"
   ]
  },
  {
   "cell_type": "markdown",
   "metadata": {},
   "source": [
    "## Define some useful polynomial regression functions"
   ]
  },
  {
   "cell_type": "code",
   "execution_count": 7,
   "metadata": {},
   "outputs": [
    {
     "name": "stdout",
     "output_type": "stream",
     "text": [
      "           100             99             98             97\n",
      "1.139e+05 x   - 3.913e+04 x  + 1.541e+05 x  - 3.606e+04 x \n",
      "              96             95             94        93            92\n",
      " + 2.111e+05 x  - 2.847e+04 x  + 2.913e+05 x  - 5618 x  + 4.05e+05 x \n",
      "              91             90             89             88\n",
      " + 3.774e+04 x  + 5.678e+05 x  + 1.155e+05 x  + 8.012e+05 x \n",
      "              87             86             85             84\n",
      " + 2.475e+05 x  + 1.137e+06 x  + 4.638e+05 x  + 1.622e+06 x \n",
      "              83            82             81             80\n",
      " + 8.086e+05 x  + 2.32e+06 x  + 1.347e+06 x  + 3.325e+06 x \n",
      "              79             78             77             76\n",
      " + 2.171e+06 x  + 4.765e+06 x  + 3.411e+06 x  + 6.815e+06 x \n",
      "              75             74             73             72\n",
      " + 5.242e+06 x  + 9.708e+06 x  + 7.897e+06 x  + 1.374e+07 x \n",
      "              71             70             69             68\n",
      " + 1.166e+07 x  + 1.927e+07 x  + 1.686e+07 x  + 2.669e+07 x \n",
      "             67             66             65             64\n",
      " + 2.38e+07 x  + 3.633e+07 x  + 3.266e+07 x  + 4.833e+07 x \n",
      "              63             62             61             60\n",
      " + 4.324e+07 x  + 6.228e+07 x  + 5.458e+07 x  + 7.677e+07 x \n",
      "              59             58             57             56\n",
      " + 6.428e+07 x  + 8.853e+07 x  + 6.758e+07 x  + 9.148e+07 x \n",
      "              55             54             53             52\n",
      " + 5.626e+07 x  + 7.562e+07 x  + 1.786e+07 x  + 2.684e+07 x \n",
      "              51             50             49             48\n",
      " - 6.374e+07 x  - 7.109e+07 x  - 2.041e+08 x  - 2.291e+08 x \n",
      "              47             46             45             44\n",
      " - 4.068e+08 x  - 4.365e+08 x  - 6.415e+08 x  - 6.337e+08 x \n",
      "              43             42             41             40\n",
      " - 8.133e+08 x  - 6.811e+08 x  - 7.386e+08 x  - 3.558e+08 x \n",
      "            39             38             37             36\n",
      " - 1.8e+08 x  + 5.549e+08 x  + 9.764e+08 x  + 1.973e+09 x \n",
      "              35             34             33            32\n",
      " + 2.337e+09 x  + 3.082e+09 x  + 2.604e+09 x  + 2.18e+09 x \n",
      "              31             30             29             28\n",
      " - 2.729e+07 x  - 2.023e+09 x  - 5.373e+09 x  - 6.832e+09 x \n",
      "              27             26            25             24\n",
      " - 7.415e+09 x  - 3.608e+09 x  + 2.71e+09 x  + 1.044e+10 x \n",
      "              23             22             21             20\n",
      " + 1.612e+10 x  + 8.355e+09 x  - 1.016e+08 x  - 3.162e+10 x \n",
      "              19             18             17            16\n",
      " - 8.779e+09 x  - 2.059e+10 x  + 7.701e+10 x  - 1.29e+10 x \n",
      "              15             14             13             12\n",
      " - 5.182e+10 x  + 2.567e+10 x  + 8.575e+09 x  - 8.243e+09 x \n",
      "              11             10             9             8\n",
      " + 5.148e+08 x  + 9.049e+08 x  - 2.178e+08 x - 1.996e+07 x\n",
      "              7             6             5             4         3\n",
      " + 1.282e+07 x - 1.381e+06 x - 1.216e+04 x + 1.129e+04 x - 926.5 x\n",
      "          2\n",
      " + 11.76 x + 8.112 x - 0.01202\n"
     ]
    },
    {
     "name": "stderr",
     "output_type": "stream",
     "text": [
      "/Users/nipun/anaconda3/lib/python3.6/site-packages/ipykernel_launcher.py:2: RankWarning: Polyfit may be poorly conditioned\n",
      "  \n"
     ]
    },
    {
     "data": {
      "text/plain": [
       "[<matplotlib.lines.Line2D at 0x115788470>]"
      ]
     },
     "execution_count": 7,
     "metadata": {},
     "output_type": "execute_result"
    },
    {
     "data": {
      "image/png": "[encoded data removed]",
      "text/plain": [
       "<Figure size 432x288 with 1 Axes>"
      ]
     },
     "metadata": {},
     "output_type": "display_data"
    }
   ],
   "source": [
    "plt.scatter(x, y)\n",
    "f = np.poly1d(np.polyfit(x, y, 100))\n",
    "print(f)\n",
    "plt.plot(x, f(x), 'k')"
   ]
  }
 ],
 "metadata": {
  "kernelspec": {
   "display_name": "Python 3",
   "language": "python",
   "name": "python3"
  },
  "language_info": {
   "codemirror_mode": {
    "name": "ipython",
    "version": 3
   },
   "file_extension": ".py",
   "mimetype": "text/x-python",
   "name": "python",
   "nbconvert_exporter": "python",
   "pygments_lexer": "ipython3",
   "version": "3.6.5"
  }
 },
 "nbformat": 4,
 "nbformat_minor": 1
}
